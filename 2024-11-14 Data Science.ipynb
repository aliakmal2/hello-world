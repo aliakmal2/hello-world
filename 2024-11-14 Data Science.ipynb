{
 "cells": [
  {
   "cell_type": "markdown",
   "id": "91c792a2-7778-42fc-bdef-56d9135ebac1",
   "metadata": {},
   "source": [
    "1. Github is for sharing files and code with peers\n",
    "2. Version control lets us see past changes, and can allow us to go back to previous code if we break something\n",
    "3. In a group project, it lets the code be easily transfered and makes communication between group members clear"
   ]
  }
 ],
 "metadata": {
  "kernelspec": {
   "display_name": "Python 3 (ipykernel)",
   "language": "python",
   "name": "python3"
  },
  "language_info": {
   "codemirror_mode": {
    "name": "ipython",
    "version": 3
   },
   "file_extension": ".py",
   "mimetype": "text/x-python",
   "name": "python",
   "nbconvert_exporter": "python",
   "pygments_lexer": "ipython3",
   "version": "3.12.4"
  }
 },
 "nbformat": 4,
 "nbformat_minor": 5
}
